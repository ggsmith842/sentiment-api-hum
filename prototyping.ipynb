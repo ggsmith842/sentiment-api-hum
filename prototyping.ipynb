{
 "cells": [
  {
   "cell_type": "code",
   "execution_count": 1,
   "metadata": {},
   "outputs": [],
   "source": [
    "import json\n",
    "import requests\n",
    "import re\n",
    "import nltk\n",
    "import os \n",
    "from dotenv import load_dotenv\n",
    "from nltk.tag import pos_tag\n",
    "from nltk.corpus import stopwords\n",
    "from nltk.tokenize import word_tokenize\n",
    "from rake_nltk import Rake\n",
    "#nltk.download('averaged_perceptron_tagger')\n",
    "# nltk.download('stopwords')\n",
    "# nltk.download('punkt')\n",
    "# nltk.download('vader_lexicon')"
   ]
  },
  {
   "cell_type": "code",
   "execution_count": 2,
   "metadata": {},
   "outputs": [],
   "source": [
    "def searchTweets(search_term:str):\n",
    "    load_dotenv()\n",
    "    url = \"https://api.twitter.com/2/tweets/search/recent?max_results=25&expansions=referenced_tweets.id&tweet.fields=text&query=lang%3Aen%20\"+search_term\n",
    "\n",
    "    payload={}\n",
    "    headers = {\n",
    "    'Authorization': os.getenv('BEARER_TOKEN'),\n",
    "    'Cookie': 'guest_id=v1%3A165292464833657250; guest_id_ads=v1%3A165292464833657250; guest_id_marketing=v1%3A165292464833657250; personalization_id=\"v1_D50leSEsdlQN9nTvwQ6B+g==\"'\n",
    "    }\n",
    "    response = requests.request(\"GET\", url, headers=headers, data=payload).json()['includes']['tweets']\n",
    "\n",
    "    tweets = [i['text'] for i in response]\n",
    "\n",
    "\n",
    "    out_file = open(\"myfile.json\", \"w\") \n",
    "    json.dump(tweets, out_file, indent = 6) \n",
    "    out_file.close() \n",
    "    \n",
    "    with open('myfile.json') as f:\n",
    "     data = json.load(f)\n",
    "\n",
    "    return data"
   ]
  },
  {
   "cell_type": "code",
   "execution_count": 3,
   "metadata": {},
   "outputs": [],
   "source": [
    "tweets = searchTweets(\"Biden\")"
   ]
  },
  {
   "cell_type": "code",
   "execution_count": 4,
   "metadata": {},
   "outputs": [
    {
     "name": "stdout",
     "output_type": "stream",
     "text": [
      "[\"FLASHBACK: Biden promised in 2020 he would 'never' use military as a 'prop' https://t.co/vgwVz4nUb0\", 'Let me get this straight, the same people who applauded the “American carnage” speech at a freaking inauguration, out of all places and who defended the “good people on both sides“ speech, responding to Neo-Nazis…are hyperventilating over Biden’s speech and red background? GTFO.', 'The Biden administration is pivoting to a long-term strategy to assist Afghans who worked with or on behalf of the US government, according to a senior administration official.\\n\\nReported by @CNN \\nhttps://t.co/t3BMWgvGVG https://t.co/9R5tKD04ij', 'Biden gave a unifying speech against fascism. If you think it was divisive, you might be a fascist.', 'The Biden Administration has announced John Podesta will be joining the White House as a Senior Advisor to the President', 'Biden called this a \"peaceful protest.\" https://t.co/eRCxCG2Nd6', 'Joe Biden has an unhealthy obsession with Donald Trump.', 'I’m a Black MAGA Republican.\\n\\nJoe Biden knows NOTHING about me!', 'President Biden: “I want to be very clear: Not every Republican, not even the majority of Republicans, are MAGA Republicans.\\xa0 Not every Republican embraces their extreme ideology.”\\n\\nMAGA Republicans: Biden attacked and smeared half of the country!! 🤦\\u200d♂️', 'Angry man smears half of the people of the country he is supposed to lead &amp; promised to unite https://t.co/Bfa84JBamM', 'In case you didn’t know … #PedoHilter Joe Biden said yesterday that  75,000,000 U.S. citizens are the enemy of the USA. \\n\\nThere’s no words good enough to explain how much I loathe this POS, wannabe dictator, disgusting, sniffing, groping, creepy, gross loser.', '@BillOReilly Like the Blues Brothers? What’s that even mean?', \"READER FAN MAIL: Oh no. I have angered Hugh Mungus and forced him to be racist and horrible. Were it not for Biden's divisive speech last night, this surely never would've happened! https://t.co/B9L9VcQ2vM\", \"Wasn't it cute that Jill Biden had to walk Joe by the hand up to and away from the podium for his speech so he wouldn't just wander away? 🙄🤣\", 'THEN: Adolph Hitler: \"We must put a stop to the idea that it is part of everybody\\'s civil rights to say, write, publish, or paint whatever he pleases.\"\\n\\nNOW: \"Biden admin worked with big tech to censor conservatives.\"', \"North Carolina says Biden's student loan forgiveness will be taxed, and 3 more states are likely to follow suit\\n\\nThe Biden administration's student loan forgiveness plan is exempt from federal tax \\n\\n https://t.co/e87IvwQiE0\", 'CNN’s Brianna Keilar just attacked Biden for having Marines positioned behind him during his speech. She said the military shouldn’t be “politicized.” They’re not. The military stands against Fascism and they support the President. CNN stands against Biden and supports Fascism.', 'In Speech Walkback, Biden Now Admits He’s The Real Threat To Democracy https://t.co/tiXAXaND0Z', 'What? https://t.co/behJEAzNRH', 'Why are MAGA Republicans so offended when President Biden says that political terrorism is wrong?\\n\\nOHHHHH.', '@BaddCompani @hugolowell Lots of \"gifts\" listed.  \\n\\nIs this straight up THEFT of government property under\\xa018 U.S.C.\\xa0§ 641?\\n\\nAfter Biden was sworn in, SCOTUS immediately dismissed emoluments lawsuits as moot, because Trump was no longer president. But they didn\\'t rule on 641 theft by FPOTUS.', 'Newly released emails PROVE Biden admin coordinated with Big Tech to censor speech, says GOP AG https://t.co/9UVUGoXJGD', 'After President Biden’s speech last night, it seems like a lot of people are unhappy that they got the shoe, and it fits.', 'Joe Biden should be banned by Twitter for threatening citizens of the US &amp; hate speech.']\n"
     ]
    }
   ],
   "source": [
    "print(tweets)"
   ]
  },
  {
   "cell_type": "code",
   "execution_count": 5,
   "metadata": {},
   "outputs": [],
   "source": [
    "#Build text pre-processing \n",
    "#would a class for the tweets be smart?"
   ]
  },
  {
   "cell_type": "markdown",
   "metadata": {},
   "source": [
    "### Text Preprocessing"
   ]
  },
  {
   "cell_type": "code",
   "execution_count": 6,
   "metadata": {},
   "outputs": [],
   "source": [
    "\n",
    "def process_text(text):\n",
    "    stop_words = set(stopwords.words('english'))\n",
    "    clean_text = re.sub(r'\\b(https?://\\S+)\\b','',text) #remove URLs\n",
    "    clean_text = \" \".join(re.findall('\\w{3,}',clean_text))\n",
    "    word_tokens = word_tokenize(clean_text)\n",
    "    filtered_text = \" \".join([word for word in word_tokens if word not in stop_words])\n",
    "    \n",
    "    return filtered_text"
   ]
  },
  {
   "cell_type": "code",
   "execution_count": 7,
   "metadata": {},
   "outputs": [],
   "source": [
    "clean_tweets = [process_text(i) for i in tweets]"
   ]
  },
  {
   "cell_type": "code",
   "execution_count": 8,
   "metadata": {},
   "outputs": [
    {
     "data": {
      "text/plain": [
       "['FLASHBACK Biden promised 2020 would never use military prop',\n",
       " 'Let get straight people applauded American carnage speech freaking inauguration places defended good people sides speech responding Neo Nazis hyperventilating Biden speech red background GTFO',\n",
       " 'The Biden administration pivoting long term strategy assist Afghans worked behalf government according senior administration official Reported CNN',\n",
       " 'Biden gave unifying speech fascism think divisive might fascist',\n",
       " 'The Biden Administration announced John Podesta joining White House Senior Advisor President',\n",
       " 'Biden called peaceful protest',\n",
       " 'Joe Biden unhealthy obsession Donald Trump',\n",
       " 'Black MAGA Republican Joe Biden knows NOTHING',\n",
       " 'President Biden want clear Not every Republican even majority Republicans MAGA Republicans Not every Republican embraces extreme ideology MAGA Republicans Biden attacked smeared half country',\n",
       " 'Angry man smears half people country supposed lead amp promised unite',\n",
       " 'case know PedoHilter Joe Biden said yesterday 000 000 citizens enemy USA There words good enough explain much loathe POS wannabe dictator disgusting sniffing groping creepy gross loser',\n",
       " 'BillOReilly Like Blues Brothers What even mean',\n",
       " 'READER FAN MAIL angered Hugh Mungus forced racist horrible Were Biden divisive speech last night surely never would happened',\n",
       " 'Wasn cute Jill Biden walk Joe hand away podium speech wander away',\n",
       " 'THEN Adolph Hitler must put stop idea part everybody civil rights say write publish paint whatever pleases NOW Biden admin worked big tech censor conservatives',\n",
       " 'North Carolina says Biden student loan forgiveness taxed states likely follow suit The Biden administration student loan forgiveness plan exempt federal tax',\n",
       " 'CNN Brianna Keilar attacked Biden Marines positioned behind speech She said military politicized They The military stands Fascism support President CNN stands Biden supports Fascism',\n",
       " 'Speech Walkback Biden Now Admits The Real Threat Democracy',\n",
       " 'What',\n",
       " 'Why MAGA Republicans offended President Biden says political terrorism wrong OHHHHH',\n",
       " 'BaddCompani hugolowell Lots gifts listed straight THEFT government property 641 After Biden sworn SCOTUS immediately dismissed emoluments lawsuits moot Trump longer president But rule 641 theft FPOTUS',\n",
       " 'Newly released emails PROVE Biden admin coordinated Big Tech censor speech says GOP',\n",
       " 'After President Biden speech last night seems like lot people unhappy got shoe fits',\n",
       " 'Joe Biden banned Twitter threatening citizens amp hate speech']"
      ]
     },
     "execution_count": 8,
     "metadata": {},
     "output_type": "execute_result"
    }
   ],
   "source": [
    "#get keywords\n",
    "clean_tweets"
   ]
  },
  {
   "cell_type": "code",
   "execution_count": 9,
   "metadata": {},
   "outputs": [],
   "source": [
    "from statistics import mean\n",
    "from math import floor\n",
    "\n",
    "def get_keywords(sentences: list):\n",
    "    '''\n",
    "    Given a list of strings, return the top keywords that are at least 4 letters long\n",
    "    '''        \n",
    "    r = Rake()\n",
    "    r.extract_keywords_from_sentences(sentences)\n",
    "    r.get_ranked_phrases_with_scores()\n",
    "    keywords = r.get_ranked_phrases()[0].split(\" \")\n",
    "    avg_keyword_len = floor(mean([len(i) for i in keywords]))\n",
    "    best_keywords = [i for i in keywords if len(i)>avg_keyword_len and len(i)>3]\n",
    "    return best_keywords"
   ]
  },
  {
   "cell_type": "code",
   "execution_count": 10,
   "metadata": {},
   "outputs": [
    {
     "data": {
      "text/plain": [
       "['straight',\n",
       " 'applauded',\n",
       " 'american',\n",
       " 'carnage',\n",
       " 'freaking',\n",
       " 'inauguration',\n",
       " 'defended',\n",
       " 'responding',\n",
       " 'hyperventilating',\n",
       " 'background']"
      ]
     },
     "execution_count": 10,
     "metadata": {},
     "output_type": "execute_result"
    }
   ],
   "source": [
    "get_keywords(clean_tweets)\n"
   ]
  },
  {
   "cell_type": "code",
   "execution_count": 11,
   "metadata": {},
   "outputs": [
    {
     "data": {
      "text/plain": [
       "('neutral', -0.12)"
      ]
     },
     "execution_count": 11,
     "metadata": {},
     "output_type": "execute_result"
    }
   ],
   "source": [
    "#get sentiment\n",
    "from nltk.sentiment import SentimentIntensityAnalyzer\n",
    "def get_avg_sentiment(tweets):\n",
    "    sia = SentimentIntensityAnalyzer()\n",
    "\n",
    "    term_sentiment = round(mean([sia.polarity_scores(tweet)['compound'] for tweet in tweets ]),2)\n",
    "\n",
    "    if term_sentiment < -0.33:\n",
    "        return (\"negative\", term_sentiment)\n",
    "    elif term_sentiment > 0.33:\n",
    "        return (\"positive\", term_sentiment)\n",
    "    else:\n",
    "        return (\"neutral\",term_sentiment)\n",
    "\n",
    "get_avg_sentiment(clean_tweets)\n"
   ]
  },
  {
   "cell_type": "code",
   "execution_count": 12,
   "metadata": {},
   "outputs": [
    {
     "data": {
      "text/plain": [
       "['applauded', 'american', 'carnage', 'inauguration', 'background']"
      ]
     },
     "execution_count": 12,
     "metadata": {},
     "output_type": "execute_result"
    }
   ],
   "source": [
    "keywords = get_keywords(clean_tweets,)\n",
    "\n",
    "tag=pos_tag(keywords)\n",
    "\n",
    "[i[0] for i in tag if i[1] not in ['VBG','VBD','RB','PDT','POS','WDT','WP','WRB',]]"
   ]
  },
  {
   "cell_type": "code",
   "execution_count": 64,
   "metadata": {},
   "outputs": [],
   "source": [
    "def call_trends():\n",
    "  url = \"https://api.twitter.com/1.1/trends/place.json?id=23424977\"\n",
    "  headers = {\n",
    "  'Authorization': os.getenv(\"BEARER_TOKEN\"),\n",
    "  'Cookie': 'guest_id=v1%3A165292464833657250; guest_id_ads=v1%3A165292464833657250; guest_id_marketing=v1%3A165292464833657250; personalization_id=\"v1_D50leSEsdlQN9nTvwQ6B+g==\"'\n",
    "  }\n",
    "\n",
    "  try:\n",
    "    response = requests.request(\"GET\",url,headers=headers).json()[0]['trends']\n",
    "    response.sort(key=lambda x:0 if x[\"tweet_volume\"] is None else x[\"tweet_volume\"],reverse=True)\n",
    "    results = [trend['name'] for trend in response]\n",
    "    return results\n",
    "  except Exception as e:\n",
    "    error_message = f\"An error occured in call_trends(): {e}\"\n",
    "    return error_message"
   ]
  },
  {
   "cell_type": "code",
   "execution_count": 65,
   "metadata": {},
   "outputs": [
    {
     "name": "stdout",
     "output_type": "stream",
     "text": [
      "['Classified', 'The 12', 'Marines', 'MAGA Republican', '43 EMPTY', 'Top 4', 'Labor Day', 'Notifications', 'CPAC', 'What Americans', '#CashAppExtraCredit', 'Tiffany Haddish', 'Gazprom', 'Nikki', 'Bill Barr', 'Notis', 'Aries Spears', '#DemsWillWin', 'College Football Playoff', 'Peraza', 'The CFP', 'Carti', '2seok', 'John Harwood', 'Podesta', 'Barbara Ehrenreich', '#FreeCodeFridayContest', 'Dimed', '#PMSFeelGoodFriday', '#MAGAIsOver', 'Le Creuset', 'Hicks and IKF', 'Mervo', 'Plesac', 'Steely Dan', 'March Madness', 'Splitgate', 'Joey Votto', 'Andy Murray', 'IKF and Hicks', 'Ted Phillips', 'Vanoss', 'Jane Fonda', 'Berrettini', 'Samsung Galaxy Watch5', 'Jalen Thompson', 'Group of 5', 'kian', 'Chris Licht', 'John Malone']\n"
     ]
    }
   ],
   "source": [
    "x = call_trends()\n",
    "print(x)"
   ]
  }
 ],
 "metadata": {
  "kernelspec": {
   "display_name": "Python 3.10.6 ('fastvenv': venv)",
   "language": "python",
   "name": "python3"
  },
  "language_info": {
   "codemirror_mode": {
    "name": "ipython",
    "version": 3
   },
   "file_extension": ".py",
   "mimetype": "text/x-python",
   "name": "python",
   "nbconvert_exporter": "python",
   "pygments_lexer": "ipython3",
   "version": "3.10.6"
  },
  "orig_nbformat": 4,
  "vscode": {
   "interpreter": {
    "hash": "9d7811bf6c5bfbaede772596fcb0508576ecab4549c8aa3c780d738ece0b383a"
   }
  }
 },
 "nbformat": 4,
 "nbformat_minor": 2
}

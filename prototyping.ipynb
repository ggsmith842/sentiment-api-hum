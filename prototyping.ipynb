{
 "cells": [
  {
   "cell_type": "code",
   "execution_count": 21,
   "metadata": {},
   "outputs": [],
   "source": [
    "import json\n",
    "import requests\n",
    "import re\n",
    "import nltk\n",
    "import os \n",
    "from dotenv import load_dotenv\n",
    "from nltk.tag import pos_tag\n",
    "from nltk.corpus import stopwords\n",
    "from nltk.tokenize import word_tokenize\n",
    "from rake_nltk import Rake\n",
    "#nltk.download('averaged_perceptron_tagger')\n",
    "# nltk.download('stopwords')\n",
    "# nltk.download('punkt')\n",
    "# nltk.download('vader_lexicon')"
   ]
  },
  {
   "cell_type": "code",
   "execution_count": 22,
   "metadata": {},
   "outputs": [],
   "source": [
    "def searchTweets(search_term:str):\n",
    "    load_dotenv()\n",
    "    url = \"https://api.twitter.com/2/tweets/search/recent?max_results=25&expansions=referenced_tweets.id&tweet.fields=text&query=lang%3Aen%20\"+search_term\n",
    "\n",
    "    payload={}\n",
    "    headers = {\n",
    "    'Authorization': os.getenv('BEARER_TOKEN'),\n",
    "    'Cookie': 'guest_id=v1%3A165292464833657250; guest_id_ads=v1%3A165292464833657250; guest_id_marketing=v1%3A165292464833657250; personalization_id=\"v1_D50leSEsdlQN9nTvwQ6B+g==\"'\n",
    "    }\n",
    "    response = requests.request(\"GET\", url, headers=headers, data=payload).json()['includes']['tweets']\n",
    "\n",
    "    tweets = [i['text'] for i in response]\n",
    "\n",
    "\n",
    "    out_file = open(\"myfile.json\", \"w\") \n",
    "    json.dump(tweets, out_file, indent = 6) \n",
    "    out_file.close() \n",
    "    \n",
    "    with open('myfile.json') as f:\n",
    "     data = json.load(f)\n",
    "\n",
    "    return data"
   ]
  },
  {
   "cell_type": "code",
   "execution_count": 23,
   "metadata": {},
   "outputs": [],
   "source": [
    "tweets = searchTweets(\"Biden\")"
   ]
  },
  {
   "cell_type": "code",
   "execution_count": 24,
   "metadata": {},
   "outputs": [
    {
     "name": "stdout",
     "output_type": "stream",
     "text": [
      "['Pennsylvania Lt. Gov. John Fetterman is calling on President Biden to deschedule marijuana before his visit to Pennsylvania next week.', 'The laptop from hell was buried so deeply because it’s not about Hunter Biden—it’s about the corruption of Joe Biden.', 'Joe Biden raped me RT', 'Biden is raising your taxes\\nBiden wants your guns\\nBiden doesn’t care about securing the border.\\nBiden has made us dependent on bad actors for energy.\\nBiden has created record-breaking inflation.\\nBiden has yet to ‘create’ a single job.\\n\\nVote accordingly come November.', \"If Biden thinks that the Patriots need F-15's to keep our Freedom then someone needs to get that man checked into a Mental Hospital. This is America the Land of the Free! 🙄\\U0001fae3\", 'OMG they let creepy Joe Biden out of the basement today and he was a complete bumbling stumbling angry weirdo 🤣🤣🤣🤣🤣', 'If Trump said something like this the media would absolutely crucify him. Biden? Not so much. \\n\\nhttps://t.co/9cO9PYXroJ', 'Walker: My bike is not bent so anyone can ride my bike like he seem to have Chuck Schumer and Joe Biden riding his bike https://t.co/rMe7WRAJMu', 'So Trump wants a do over because Hunter Biden wasn’t charged with a crime and had he been Trump would have won… Trump would have lost in 2016 had Comey not raised a false flag on Hillary…Losers keep making excuses\\n\\n#wtpBLUE \\n#ProudBlue22 \\n\\nhttps://t.co/9Naqn1TXCQ', 'Between having COVID and taking an endless vacation, Biden has been largely out of sight for weeks, leading many to forget what an incoherent, vicious SOB he is. \\n\\nToday he reminded everybody.', 'A year ago, Joe Biden handed F-15’s and $85B worth of military equipment to the Taliban.\\n\\nToday, Joe Biden threatened to use F-15’s against American citizens who believe in protecting the 2A.\\n\\nInsanity.', 'When Joe Biden was declared President of the United States, Americans danced and partied in the streets.\\n\\nWhen Donald Trump is prosecuted, the celebration will be even bigger. https://t.co/4s4KlfIngs', 'BREAKING: Biden\\'s Press Secretary Karine Jean-Pierre pulls no punches — says that Sen. Lindsey Graham\\'s threat of \"riots in the streets\" if Donald Trump is prosecuted proves that Biden was right about MAGA Republicans embracing \"semi-fascism.\" RT IF YOU SUPPORT BIDEN\\'S REMARKS!', 'NOW - Biden: \"For those brave right-wing Americans... if you want to fight against the country, you need an F-15. You need something little more than a gun.\" https://t.co/ce3BJEEo7G', \"Raise your hand if you're thankful to have a President that is standing up to the NRA ✋\", 'Dear Republicans...PLEASE...let me repeat that...PLEASE announce your plans to impeach @POTUS #Biden BEFORE the November midterms... https://t.co/SXUBfAC3pz', 'Every single Republican in Congress voted against funding for law enforcement in President Biden’s American Rescue Plan. https://t.co/U0cZ2GoMM9', 'Biden’s fake anecdotes about his family forcing cops to get out of cars and meet the community are as fake as his stories about Corn Pop and law school.\\n\\nSenile old creep.', 'Mark Kelly is the best friend cartels ever had in Congress. He voted against hiring more BP agents. Against deporting illegal alien felons. Against ending Biden’s mass releases. As border Senator in 50-50 Senate he could get whatever he wanted from Biden—Kelly chose open border.', 'I guess \"FBI\" stands for \"Friends of Biden Incorporated.” https://t.co/aN6hBGZOCK', \"Biden: It's semi-fascism\\n\\nTrump: It's late August 2022 and I demand to either be declared president or have an immediate 2020 election do-over before the FBI gangsters charge me\\n\\nAssorted pundits: My goodness, I can't believe Biden went there. A very divisive rhetorical choice\", '10 new scandals, 0 seconds of coverage\\n\\nThe media are covering for Hunter Biden in the weeks leading up to the election, just like they did in 2020.\\nhttps://t.co/ruqwSu0JVi', 'Joe Biden proved again tonight that he’s racist AF.', 'If MAGA is \"semi fascist\" what do you call those who block kids from school, shutter businesses and churches, censor free speech, impose vax mandates, thwart early treatment, take away your non-electric car....? https://t.co/WWxsdEGmwT', 'BREAKING NOW: House Republicans Preparing to IMPEACH JOE BIDEN Following Midterm Elections...']\n"
     ]
    }
   ],
   "source": [
    "print(tweets)"
   ]
  },
  {
   "cell_type": "code",
   "execution_count": 25,
   "metadata": {},
   "outputs": [],
   "source": [
    "#Build text pre-processing \n",
    "#would a class for the tweets be smart?"
   ]
  },
  {
   "cell_type": "markdown",
   "metadata": {},
   "source": [
    "### Text Preprocessing"
   ]
  },
  {
   "cell_type": "code",
   "execution_count": 26,
   "metadata": {},
   "outputs": [],
   "source": [
    "\n",
    "def process_text(text):\n",
    "    stop_words = set(stopwords.words('english'))\n",
    "    clean_text = re.sub(r'\\b(https?://\\S+)\\b','',text) #remove URLs\n",
    "    clean_text = \" \".join(re.findall('\\w{3,}',clean_text))\n",
    "    word_tokens = word_tokenize(clean_text)\n",
    "    filtered_text = \" \".join([word for word in word_tokens if word not in stop_words])\n",
    "    \n",
    "    return filtered_text"
   ]
  },
  {
   "cell_type": "code",
   "execution_count": 27,
   "metadata": {},
   "outputs": [],
   "source": [
    "clean_tweets = [process_text(i) for i in tweets]"
   ]
  },
  {
   "cell_type": "code",
   "execution_count": 28,
   "metadata": {},
   "outputs": [
    {
     "data": {
      "text/plain": [
       "['Pennsylvania Gov John Fetterman calling President Biden deschedule marijuana visit Pennsylvania next week',\n",
       " 'The laptop hell buried deeply Hunter Biden corruption Joe Biden',\n",
       " 'Joe Biden raped',\n",
       " 'Biden raising taxes Biden wants guns Biden care securing border Biden made dependent bad actors energy Biden created record breaking inflation Biden yet create single job Vote accordingly come November',\n",
       " 'Biden thinks Patriots need keep Freedom someone needs get man checked Mental Hospital This America Land Free',\n",
       " 'OMG let creepy Joe Biden basement today complete bumbling stumbling angry weirdo',\n",
       " 'Trump said something like media would absolutely crucify Biden Not much',\n",
       " 'Walker bike bent anyone ride bike like seem Chuck Schumer Joe Biden riding bike',\n",
       " 'Trump wants Hunter Biden charged crime Trump would Trump would lost 2016 Comey raised false flag Hillary Losers keep making excuses wtpBLUE ProudBlue22',\n",
       " 'Between COVID taking endless vacation Biden largely sight weeks leading many forget incoherent vicious SOB Today reminded everybody',\n",
       " 'year ago Joe Biden handed 85B worth military equipment Taliban Today Joe Biden threatened use American citizens believe protecting Insanity',\n",
       " 'When Joe Biden declared President United States Americans danced partied streets When Donald Trump prosecuted celebration even bigger',\n",
       " 'BREAKING Biden Press Secretary Karine Jean Pierre pulls punches says Sen Lindsey Graham threat riots streets Donald Trump prosecuted proves Biden right MAGA Republicans embracing semi fascism YOU SUPPORT BIDEN REMARKS',\n",
       " 'NOW Biden For brave right wing Americans want fight country need You need something little gun',\n",
       " 'Raise hand thankful President standing NRA',\n",
       " 'Dear Republicans PLEASE let repeat PLEASE announce plans impeach POTUS Biden BEFORE November midterms',\n",
       " 'Every single Republican Congress voted funding law enforcement President Biden American Rescue Plan',\n",
       " 'Biden fake anecdotes family forcing cops get cars meet community fake stories Corn Pop law school Senile old creep',\n",
       " 'Mark Kelly best friend cartels ever Congress voted hiring agents Against deporting illegal alien felons Against ending Biden mass releases border Senator Senate could get whatever wanted Biden Kelly chose open border',\n",
       " 'guess FBI stands Friends Biden Incorporated',\n",
       " 'Biden semi fascism Trump late August 2022 demand either declared president immediate 2020 election FBI gangsters charge Assorted pundits goodness believe Biden went divisive rhetorical choice',\n",
       " 'new scandals seconds coverage The media covering Hunter Biden weeks leading election like 2020',\n",
       " 'Joe Biden proved tonight racist',\n",
       " 'MAGA semi fascist call block kids school shutter businesses churches censor free speech impose vax mandates thwart early treatment take away non electric car',\n",
       " 'BREAKING NOW House Republicans Preparing IMPEACH JOE BIDEN Following Midterm Elections']"
      ]
     },
     "execution_count": 28,
     "metadata": {},
     "output_type": "execute_result"
    }
   ],
   "source": [
    "#get keywords\n",
    "clean_tweets"
   ]
  },
  {
   "cell_type": "code",
   "execution_count": 29,
   "metadata": {},
   "outputs": [],
   "source": [
    "from statistics import mean\n",
    "from math import floor\n",
    "\n",
    "def get_keywords(sentences: list):\n",
    "    '''\n",
    "    Given a list of strings, return the top keywords that are at least 4 letters long\n",
    "    '''        \n",
    "    r = Rake()\n",
    "    r.extract_keywords_from_sentences(sentences)\n",
    "    r.get_ranked_phrases_with_scores()\n",
    "    keywords = r.get_ranked_phrases()[0].split(\" \")\n",
    "    avg_keyword_len = floor(mean([len(i) for i in keywords]))\n",
    "    best_keywords = [i for i in keywords if len(i)>avg_keyword_len and len(i)>3]\n",
    "    return best_keywords"
   ]
  },
  {
   "cell_type": "code",
   "execution_count": 30,
   "metadata": {},
   "outputs": [
    {
     "data": {
      "text/plain": [
       "['raising',\n",
       " 'securing',\n",
       " 'border',\n",
       " 'dependent',\n",
       " 'actors',\n",
       " 'energy',\n",
       " 'created',\n",
       " 'record',\n",
       " 'breaking',\n",
       " 'inflation',\n",
       " 'create',\n",
       " 'single',\n",
       " 'accordingly',\n",
       " 'november']"
      ]
     },
     "execution_count": 30,
     "metadata": {},
     "output_type": "execute_result"
    }
   ],
   "source": [
    "get_keywords(clean_tweets)\n"
   ]
  },
  {
   "cell_type": "code",
   "execution_count": 31,
   "metadata": {},
   "outputs": [
    {
     "data": {
      "text/plain": [
       "('neutral', -0.05)"
      ]
     },
     "execution_count": 31,
     "metadata": {},
     "output_type": "execute_result"
    }
   ],
   "source": [
    "#get sentiment\n",
    "from nltk.sentiment import SentimentIntensityAnalyzer\n",
    "def get_avg_sentiment(tweets):\n",
    "    sia = SentimentIntensityAnalyzer()\n",
    "\n",
    "    term_sentiment = round(mean([sia.polarity_scores(tweet)['compound'] for tweet in tweets ]),2)\n",
    "\n",
    "    if term_sentiment < -0.33:\n",
    "        return (\"negative\", term_sentiment)\n",
    "    elif term_sentiment > 0.33:\n",
    "        return (\"positive\", term_sentiment)\n",
    "    else:\n",
    "        return (\"neutral\",term_sentiment)\n",
    "\n",
    "get_avg_sentiment(clean_tweets)\n"
   ]
  },
  {
   "cell_type": "code",
   "execution_count": 38,
   "metadata": {},
   "outputs": [
    {
     "data": {
      "text/plain": [
       "[('border', 'NN'),\n",
       " ('dependent', 'JJ'),\n",
       " ('actors', 'NNS'),\n",
       " ('energy', 'NN'),\n",
       " ('record', 'NN'),\n",
       " ('inflation', 'NN'),\n",
       " ('create', 'NN'),\n",
       " ('single', 'JJ'),\n",
       " ('november', 'VBP')]"
      ]
     },
     "execution_count": 38,
     "metadata": {},
     "output_type": "execute_result"
    }
   ],
   "source": [
    "keywords = get_keywords(clean_tweets,)\n",
    "\n",
    "tag=pos_tag(keywords)\n",
    "\n",
    "[i for i in tag if i[1] not in ['VBG','VBD','RB']]"
   ]
  }
 ],
 "metadata": {
  "kernelspec": {
   "display_name": "Python 3.10.6 ('fastvenv': venv)",
   "language": "python",
   "name": "python3"
  },
  "language_info": {
   "codemirror_mode": {
    "name": "ipython",
    "version": 3
   },
   "file_extension": ".py",
   "mimetype": "text/x-python",
   "name": "python",
   "nbconvert_exporter": "python",
   "pygments_lexer": "ipython3",
   "version": "3.10.6"
  },
  "orig_nbformat": 4,
  "vscode": {
   "interpreter": {
    "hash": "9d7811bf6c5bfbaede772596fcb0508576ecab4549c8aa3c780d738ece0b383a"
   }
  }
 },
 "nbformat": 4,
 "nbformat_minor": 2
}
